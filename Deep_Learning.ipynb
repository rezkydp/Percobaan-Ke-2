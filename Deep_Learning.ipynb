{
  "nbformat": 4,
  "nbformat_minor": 0,
  "metadata": {
    "colab": {
      "provenance": [],
      "authorship_tag": "ABX9TyOaGSPxp001jorjeuFtCYv/",
      "include_colab_link": true
    },
    "kernelspec": {
      "name": "python3",
      "display_name": "Python 3"
    },
    "language_info": {
      "name": "python"
    }
  },
  "cells": [
    {
      "cell_type": "markdown",
      "metadata": {
        "id": "view-in-github",
        "colab_type": "text"
      },
      "source": [
        "<a href=\"https://colab.research.google.com/github/rezkydp/Percobaan-Ke-2/blob/main/Deep_Learning.ipynb\" target=\"_parent\"><img src=\"https://colab.research.google.com/assets/colab-badge.svg\" alt=\"Open In Colab\"/></a>"
      ]
    },
    {
      "cell_type": "code",
      "execution_count": 2,
      "metadata": {
        "id": "z0-fF0DDH54g"
      },
      "outputs": [],
      "source": [
        "import keras\n",
        "from keras import layers\n",
        "from keras import ops"
      ]
    },
    {
      "cell_type": "code",
      "source": [
        "# Versi 1\n",
        "# Memiliki 1 input layer dengan 8 neuron (menerima 8 input)\n",
        "# Memiliki 1 hidden layer dengan 10 neuron\n",
        "# Memiliki 1 output layer dengan 1 neuron\n",
        "\n",
        "model11 = keras.Sequential()\n",
        "model11.add(keras.Input(shape=(8,)))\n",
        "model11.add(keras.layers.Dense(10))\n",
        "model11.add(keras.layers.Dense(1))\n",
        "\n",
        "model11.summary() # summary model\n",
        "\n",
        "# Contoh 2:\n",
        "\n",
        "model12 = keras.Sequential([\n",
        "    layers.Dense(10, input_shape=(8,)),\n",
        "    layers.Dense(1)\n",
        "])\n",
        "\n",
        "model12.summary() # summary model"
      ],
      "metadata": {
        "colab": {
          "base_uri": "https://localhost:8080/",
          "height": 210
        },
        "id": "QbXJusgNIGhw",
        "outputId": "7c540e0c-76cf-4d77-e6e4-e71ccd16615a"
      },
      "execution_count": 20,
      "outputs": [
        {
          "output_type": "display_data",
          "data": {
            "text/plain": [
              "\u001b[1mModel: \"sequential_14\"\u001b[0m\n"
            ],
            "text/html": [
              "<pre style=\"white-space:pre;overflow-x:auto;line-height:normal;font-family:Menlo,'DejaVu Sans Mono',consolas,'Courier New',monospace\"><span style=\"font-weight: bold\">Model: \"sequential_14\"</span>\n",
              "</pre>\n"
            ]
          },
          "metadata": {}
        },
        {
          "output_type": "display_data",
          "data": {
            "text/plain": [
              "┏━━━━━━━━━━━━━━━━━━━━━━━━━━━━━━━━━━━━━━┳━━━━━━━━━━━━━━━━━━━━━━━━━━━━━┳━━━━━━━━━━━━━━━━━┓\n",
              "┃\u001b[1m \u001b[0m\u001b[1mLayer (type)                        \u001b[0m\u001b[1m \u001b[0m┃\u001b[1m \u001b[0m\u001b[1mOutput Shape               \u001b[0m\u001b[1m \u001b[0m┃\u001b[1m \u001b[0m\u001b[1m        Param #\u001b[0m\u001b[1m \u001b[0m┃\n",
              "┡━━━━━━━━━━━━━━━━━━━━━━━━━━━━━━━━━━━━━━╇━━━━━━━━━━━━━━━━━━━━━━━━━━━━━╇━━━━━━━━━━━━━━━━━┩\n",
              "│ dense_26 (\u001b[38;5;33mDense\u001b[0m)                     │ (\u001b[38;5;45mNone\u001b[0m, \u001b[38;5;34m10\u001b[0m)                  │              \u001b[38;5;34m90\u001b[0m │\n",
              "├──────────────────────────────────────┼─────────────────────────────┼─────────────────┤\n",
              "│ dense_27 (\u001b[38;5;33mDense\u001b[0m)                     │ (\u001b[38;5;45mNone\u001b[0m, \u001b[38;5;34m1\u001b[0m)                   │              \u001b[38;5;34m11\u001b[0m │\n",
              "└──────────────────────────────────────┴─────────────────────────────┴─────────────────┘\n"
            ],
            "text/html": [
              "<pre style=\"white-space:pre;overflow-x:auto;line-height:normal;font-family:Menlo,'DejaVu Sans Mono',consolas,'Courier New',monospace\">┏━━━━━━━━━━━━━━━━━━━━━━━━━━━━━━━━━━━━━━┳━━━━━━━━━━━━━━━━━━━━━━━━━━━━━┳━━━━━━━━━━━━━━━━━┓\n",
              "┃<span style=\"font-weight: bold\"> Layer (type)                         </span>┃<span style=\"font-weight: bold\"> Output Shape                </span>┃<span style=\"font-weight: bold\">         Param # </span>┃\n",
              "┡━━━━━━━━━━━━━━━━━━━━━━━━━━━━━━━━━━━━━━╇━━━━━━━━━━━━━━━━━━━━━━━━━━━━━╇━━━━━━━━━━━━━━━━━┩\n",
              "│ dense_26 (<span style=\"color: #0087ff; text-decoration-color: #0087ff\">Dense</span>)                     │ (<span style=\"color: #00d7ff; text-decoration-color: #00d7ff\">None</span>, <span style=\"color: #00af00; text-decoration-color: #00af00\">10</span>)                  │              <span style=\"color: #00af00; text-decoration-color: #00af00\">90</span> │\n",
              "├──────────────────────────────────────┼─────────────────────────────┼─────────────────┤\n",
              "│ dense_27 (<span style=\"color: #0087ff; text-decoration-color: #0087ff\">Dense</span>)                     │ (<span style=\"color: #00d7ff; text-decoration-color: #00d7ff\">None</span>, <span style=\"color: #00af00; text-decoration-color: #00af00\">1</span>)                   │              <span style=\"color: #00af00; text-decoration-color: #00af00\">11</span> │\n",
              "└──────────────────────────────────────┴─────────────────────────────┴─────────────────┘\n",
              "</pre>\n"
            ]
          },
          "metadata": {}
        },
        {
          "output_type": "display_data",
          "data": {
            "text/plain": [
              "\u001b[1m Total params: \u001b[0m\u001b[38;5;34m101\u001b[0m (404.00 B)\n"
            ],
            "text/html": [
              "<pre style=\"white-space:pre;overflow-x:auto;line-height:normal;font-family:Menlo,'DejaVu Sans Mono',consolas,'Courier New',monospace\"><span style=\"font-weight: bold\"> Total params: </span><span style=\"color: #00af00; text-decoration-color: #00af00\">101</span> (404.00 B)\n",
              "</pre>\n"
            ]
          },
          "metadata": {}
        },
        {
          "output_type": "display_data",
          "data": {
            "text/plain": [
              "\u001b[1m Trainable params: \u001b[0m\u001b[38;5;34m101\u001b[0m (404.00 B)\n"
            ],
            "text/html": [
              "<pre style=\"white-space:pre;overflow-x:auto;line-height:normal;font-family:Menlo,'DejaVu Sans Mono',consolas,'Courier New',monospace\"><span style=\"font-weight: bold\"> Trainable params: </span><span style=\"color: #00af00; text-decoration-color: #00af00\">101</span> (404.00 B)\n",
              "</pre>\n"
            ]
          },
          "metadata": {}
        },
        {
          "output_type": "display_data",
          "data": {
            "text/plain": [
              "\u001b[1m Non-trainable params: \u001b[0m\u001b[38;5;34m0\u001b[0m (0.00 B)\n"
            ],
            "text/html": [
              "<pre style=\"white-space:pre;overflow-x:auto;line-height:normal;font-family:Menlo,'DejaVu Sans Mono',consolas,'Courier New',monospace\"><span style=\"font-weight: bold\"> Non-trainable params: </span><span style=\"color: #00af00; text-decoration-color: #00af00\">0</span> (0.00 B)\n",
              "</pre>\n"
            ]
          },
          "metadata": {}
        }
      ]
    },
    {
      "cell_type": "code",
      "source": [
        "in_layer = keras.Input(shape=(8,))\n",
        "hidden_layer = layers.Dense(10)(in_layer)\n",
        "out_layer = layers.Dense(1)(hidden_layer)\n",
        "\n",
        "# Define Model\n",
        "model13 = keras.Model(inputs=in_layer, outputs=out_layer)\n",
        "model13"
      ],
      "metadata": {
        "colab": {
          "base_uri": "https://localhost:8080/"
        },
        "id": "3m-Cf4V7Kj6R",
        "outputId": "4623f108-7982-4e06-dc50-b5420b8ed6a5"
      },
      "execution_count": 18,
      "outputs": [
        {
          "output_type": "execute_result",
          "data": {
            "text/plain": [
              "<Functional name=functional_18, built=True>"
            ]
          },
          "metadata": {},
          "execution_count": 18
        }
      ]
    },
    {
      "cell_type": "code",
      "source": [
        "from pandas import read_csv\n",
        "from numpy import argmax\n"
      ],
      "metadata": {
        "id": "DhGxvIIYLiYU"
      },
      "execution_count": 21,
      "outputs": []
    },
    {
      "cell_type": "code",
      "source": [
        "url = 'https://raw.githubusercontent.com/jbrownlee/Datasets/master/iris.csv'\n",
        "df = read_csv(url)\n",
        "df.head()\n",
        "\n",
        "# Pisahkan dataset menjadi feature (X) dan label (Y)\n",
        "X = df.values[:, :-1]\n",
        "y = df.values[:, -1]\n",
        "\n",
        "X = X.astype('float32') # ubah tipe data dalam X menjadi float\n",
        "X[0:4]\n",
        "\n",
        "y[0:4]\n",
        "\n",
        "from sklearn.preprocessing import LabelEncoder # encode label nilai kategorik menjadi nilai numerik\n",
        "\n",
        "y = LabelEncoder().fit_transform(y) # encode label menjadi nilai numerik\n",
        "y\n"
      ],
      "metadata": {
        "colab": {
          "base_uri": "https://localhost:8080/"
        },
        "id": "WaLK44NWMvog",
        "outputId": "c3a2f5f9-f23e-4e06-9272-df90ed332071"
      },
      "execution_count": 24,
      "outputs": [
        {
          "output_type": "execute_result",
          "data": {
            "text/plain": [
              "array([0, 0, 0, 0, 0, 0, 0, 0, 0, 0, 0, 0, 0, 0, 0, 0, 0, 0, 0, 0, 0, 0,\n",
              "       0, 0, 0, 0, 0, 0, 0, 0, 0, 0, 0, 0, 0, 0, 0, 0, 0, 0, 0, 0, 0, 0,\n",
              "       0, 0, 0, 0, 0, 1, 1, 1, 1, 1, 1, 1, 1, 1, 1, 1, 1, 1, 1, 1, 1, 1,\n",
              "       1, 1, 1, 1, 1, 1, 1, 1, 1, 1, 1, 1, 1, 1, 1, 1, 1, 1, 1, 1, 1, 1,\n",
              "       1, 1, 1, 1, 1, 1, 1, 1, 1, 1, 1, 2, 2, 2, 2, 2, 2, 2, 2, 2, 2, 2,\n",
              "       2, 2, 2, 2, 2, 2, 2, 2, 2, 2, 2, 2, 2, 2, 2, 2, 2, 2, 2, 2, 2, 2,\n",
              "       2, 2, 2, 2, 2, 2, 2, 2, 2, 2, 2, 2, 2, 2, 2, 2, 2])"
            ]
          },
          "metadata": {},
          "execution_count": 24
        }
      ]
    },
    {
      "cell_type": "code",
      "source": [
        "from sklearn.model_selection import train_test_split\n",
        "\n",
        "# split dataset\n",
        "X_train, X_test, y_train, y_test = train_test_split(X, y, test_size=0.2, random_state=42)\n",
        "print(X_train.shape, X_test.shape, y_train.shape, y_test.shape)"
      ],
      "metadata": {
        "colab": {
          "base_uri": "https://localhost:8080/"
        },
        "id": "v4gSZYdYNqRz",
        "outputId": "86ab5cf2-25f8-4e25-96ad-b1f57065f2eb"
      },
      "execution_count": 25,
      "outputs": [
        {
          "output_type": "stream",
          "name": "stdout",
          "text": [
            "(119, 4) (30, 4) (119,) (30,)\n"
          ]
        }
      ]
    },
    {
      "cell_type": "code",
      "source": [
        "n_features = X_train.shape[1]\n",
        "\n",
        "model = keras.Sequential()\n",
        "model.add(keras.Input(shape=(n_features,)))\n",
        "model.add(keras.layers.Dense(10, activation='relu'))\n",
        "model.add(keras.layers.Dense(8, activation='relu'))\n",
        "model.add(keras.layers.Dense(3, activation='softmax'))\n",
        "model.summary()\n"
      ],
      "metadata": {
        "colab": {
          "base_uri": "https://localhost:8080/",
          "height": 242
        },
        "id": "GgkgqK-4NFTa",
        "outputId": "2978e4d6-a5da-4103-d617-6ed4b02f6717"
      },
      "execution_count": 26,
      "outputs": [
        {
          "output_type": "display_data",
          "data": {
            "text/plain": [
              "\u001b[1mModel: \"sequential_15\"\u001b[0m\n"
            ],
            "text/html": [
              "<pre style=\"white-space:pre;overflow-x:auto;line-height:normal;font-family:Menlo,'DejaVu Sans Mono',consolas,'Courier New',monospace\"><span style=\"font-weight: bold\">Model: \"sequential_15\"</span>\n",
              "</pre>\n"
            ]
          },
          "metadata": {}
        },
        {
          "output_type": "display_data",
          "data": {
            "text/plain": [
              "┏━━━━━━━━━━━━━━━━━━━━━━━━━━━━━━━━━━━━━━┳━━━━━━━━━━━━━━━━━━━━━━━━━━━━━┳━━━━━━━━━━━━━━━━━┓\n",
              "┃\u001b[1m \u001b[0m\u001b[1mLayer (type)                        \u001b[0m\u001b[1m \u001b[0m┃\u001b[1m \u001b[0m\u001b[1mOutput Shape               \u001b[0m\u001b[1m \u001b[0m┃\u001b[1m \u001b[0m\u001b[1m        Param #\u001b[0m\u001b[1m \u001b[0m┃\n",
              "┡━━━━━━━━━━━━━━━━━━━━━━━━━━━━━━━━━━━━━━╇━━━━━━━━━━━━━━━━━━━━━━━━━━━━━╇━━━━━━━━━━━━━━━━━┩\n",
              "│ dense_28 (\u001b[38;5;33mDense\u001b[0m)                     │ (\u001b[38;5;45mNone\u001b[0m, \u001b[38;5;34m10\u001b[0m)                  │              \u001b[38;5;34m50\u001b[0m │\n",
              "├──────────────────────────────────────┼─────────────────────────────┼─────────────────┤\n",
              "│ dense_29 (\u001b[38;5;33mDense\u001b[0m)                     │ (\u001b[38;5;45mNone\u001b[0m, \u001b[38;5;34m8\u001b[0m)                   │              \u001b[38;5;34m88\u001b[0m │\n",
              "├──────────────────────────────────────┼─────────────────────────────┼─────────────────┤\n",
              "│ dense_30 (\u001b[38;5;33mDense\u001b[0m)                     │ (\u001b[38;5;45mNone\u001b[0m, \u001b[38;5;34m3\u001b[0m)                   │              \u001b[38;5;34m27\u001b[0m │\n",
              "└──────────────────────────────────────┴─────────────────────────────┴─────────────────┘\n"
            ],
            "text/html": [
              "<pre style=\"white-space:pre;overflow-x:auto;line-height:normal;font-family:Menlo,'DejaVu Sans Mono',consolas,'Courier New',monospace\">┏━━━━━━━━━━━━━━━━━━━━━━━━━━━━━━━━━━━━━━┳━━━━━━━━━━━━━━━━━━━━━━━━━━━━━┳━━━━━━━━━━━━━━━━━┓\n",
              "┃<span style=\"font-weight: bold\"> Layer (type)                         </span>┃<span style=\"font-weight: bold\"> Output Shape                </span>┃<span style=\"font-weight: bold\">         Param # </span>┃\n",
              "┡━━━━━━━━━━━━━━━━━━━━━━━━━━━━━━━━━━━━━━╇━━━━━━━━━━━━━━━━━━━━━━━━━━━━━╇━━━━━━━━━━━━━━━━━┩\n",
              "│ dense_28 (<span style=\"color: #0087ff; text-decoration-color: #0087ff\">Dense</span>)                     │ (<span style=\"color: #00d7ff; text-decoration-color: #00d7ff\">None</span>, <span style=\"color: #00af00; text-decoration-color: #00af00\">10</span>)                  │              <span style=\"color: #00af00; text-decoration-color: #00af00\">50</span> │\n",
              "├──────────────────────────────────────┼─────────────────────────────┼─────────────────┤\n",
              "│ dense_29 (<span style=\"color: #0087ff; text-decoration-color: #0087ff\">Dense</span>)                     │ (<span style=\"color: #00d7ff; text-decoration-color: #00d7ff\">None</span>, <span style=\"color: #00af00; text-decoration-color: #00af00\">8</span>)                   │              <span style=\"color: #00af00; text-decoration-color: #00af00\">88</span> │\n",
              "├──────────────────────────────────────┼─────────────────────────────┼─────────────────┤\n",
              "│ dense_30 (<span style=\"color: #0087ff; text-decoration-color: #0087ff\">Dense</span>)                     │ (<span style=\"color: #00d7ff; text-decoration-color: #00d7ff\">None</span>, <span style=\"color: #00af00; text-decoration-color: #00af00\">3</span>)                   │              <span style=\"color: #00af00; text-decoration-color: #00af00\">27</span> │\n",
              "└──────────────────────────────────────┴─────────────────────────────┴─────────────────┘\n",
              "</pre>\n"
            ]
          },
          "metadata": {}
        },
        {
          "output_type": "display_data",
          "data": {
            "text/plain": [
              "\u001b[1m Total params: \u001b[0m\u001b[38;5;34m165\u001b[0m (660.00 B)\n"
            ],
            "text/html": [
              "<pre style=\"white-space:pre;overflow-x:auto;line-height:normal;font-family:Menlo,'DejaVu Sans Mono',consolas,'Courier New',monospace\"><span style=\"font-weight: bold\"> Total params: </span><span style=\"color: #00af00; text-decoration-color: #00af00\">165</span> (660.00 B)\n",
              "</pre>\n"
            ]
          },
          "metadata": {}
        },
        {
          "output_type": "display_data",
          "data": {
            "text/plain": [
              "\u001b[1m Trainable params: \u001b[0m\u001b[38;5;34m165\u001b[0m (660.00 B)\n"
            ],
            "text/html": [
              "<pre style=\"white-space:pre;overflow-x:auto;line-height:normal;font-family:Menlo,'DejaVu Sans Mono',consolas,'Courier New',monospace\"><span style=\"font-weight: bold\"> Trainable params: </span><span style=\"color: #00af00; text-decoration-color: #00af00\">165</span> (660.00 B)\n",
              "</pre>\n"
            ]
          },
          "metadata": {}
        },
        {
          "output_type": "display_data",
          "data": {
            "text/plain": [
              "\u001b[1m Non-trainable params: \u001b[0m\u001b[38;5;34m0\u001b[0m (0.00 B)\n"
            ],
            "text/html": [
              "<pre style=\"white-space:pre;overflow-x:auto;line-height:normal;font-family:Menlo,'DejaVu Sans Mono',consolas,'Courier New',monospace\"><span style=\"font-weight: bold\"> Non-trainable params: </span><span style=\"color: #00af00; text-decoration-color: #00af00\">0</span> (0.00 B)\n",
              "</pre>\n"
            ]
          },
          "metadata": {}
        }
      ]
    },
    {
      "cell_type": "code",
      "source": [
        "# Configures the model for training.\n",
        "model.compile(\n",
        "    optimizer='adam',\n",
        "    loss = 'sparse_categorical_crossentropy',\n",
        "    metrics = ['accuracy']\n",
        ")\n",
        "#Fit the Model\n",
        "\n",
        "model.fit(\n",
        "  X_train,\n",
        "  y_train,\n",
        "  batch_size = 32,\n",
        "  epochs = 50,\n",
        "  verbose=2\n",
        ")"
      ],
      "metadata": {
        "colab": {
          "base_uri": "https://localhost:8080/"
        },
        "id": "sRgrnfl-N5ZY",
        "outputId": "0e443188-4ea3-464e-d2f9-f9d7502f0300"
      },
      "execution_count": 28,
      "outputs": [
        {
          "output_type": "stream",
          "name": "stdout",
          "text": [
            "Epoch 1/50\n",
            "4/4 - 2s - 480ms/step - accuracy: 0.3277 - loss: 3.4309\n",
            "Epoch 2/50\n",
            "4/4 - 0s - 8ms/step - accuracy: 0.3277 - loss: 3.2513\n",
            "Epoch 3/50\n",
            "4/4 - 0s - 15ms/step - accuracy: 0.3277 - loss: 3.0728\n",
            "Epoch 4/50\n",
            "4/4 - 0s - 13ms/step - accuracy: 0.3277 - loss: 2.9131\n",
            "Epoch 5/50\n",
            "4/4 - 0s - 7ms/step - accuracy: 0.3277 - loss: 2.7580\n",
            "Epoch 6/50\n",
            "4/4 - 0s - 8ms/step - accuracy: 0.3277 - loss: 2.6299\n",
            "Epoch 7/50\n",
            "4/4 - 0s - 8ms/step - accuracy: 0.3277 - loss: 2.5026\n",
            "Epoch 8/50\n",
            "4/4 - 0s - 8ms/step - accuracy: 0.3277 - loss: 2.3963\n",
            "Epoch 9/50\n",
            "4/4 - 0s - 8ms/step - accuracy: 0.3277 - loss: 2.3069\n",
            "Epoch 10/50\n",
            "4/4 - 0s - 14ms/step - accuracy: 0.3277 - loss: 2.2170\n",
            "Epoch 11/50\n",
            "4/4 - 0s - 7ms/step - accuracy: 0.3277 - loss: 2.1496\n",
            "Epoch 12/50\n",
            "4/4 - 0s - 7ms/step - accuracy: 0.3277 - loss: 2.0740\n",
            "Epoch 13/50\n",
            "4/4 - 0s - 7ms/step - accuracy: 0.3277 - loss: 2.0071\n",
            "Epoch 14/50\n",
            "4/4 - 0s - 7ms/step - accuracy: 0.3277 - loss: 1.9425\n",
            "Epoch 15/50\n",
            "4/4 - 0s - 7ms/step - accuracy: 0.3277 - loss: 1.8822\n",
            "Epoch 16/50\n",
            "4/4 - 0s - 7ms/step - accuracy: 0.3277 - loss: 1.8192\n",
            "Epoch 17/50\n",
            "4/4 - 0s - 15ms/step - accuracy: 0.3277 - loss: 1.7664\n",
            "Epoch 18/50\n",
            "4/4 - 0s - 8ms/step - accuracy: 0.3277 - loss: 1.7158\n",
            "Epoch 19/50\n",
            "4/4 - 0s - 8ms/step - accuracy: 0.3277 - loss: 1.6659\n",
            "Epoch 20/50\n",
            "4/4 - 0s - 7ms/step - accuracy: 0.3277 - loss: 1.6188\n",
            "Epoch 21/50\n",
            "4/4 - 0s - 8ms/step - accuracy: 0.3277 - loss: 1.5730\n",
            "Epoch 22/50\n",
            "4/4 - 0s - 14ms/step - accuracy: 0.3277 - loss: 1.5341\n",
            "Epoch 23/50\n",
            "4/4 - 0s - 8ms/step - accuracy: 0.3277 - loss: 1.4959\n",
            "Epoch 24/50\n",
            "4/4 - 0s - 15ms/step - accuracy: 0.3277 - loss: 1.4600\n",
            "Epoch 25/50\n",
            "4/4 - 0s - 10ms/step - accuracy: 0.3277 - loss: 1.4233\n",
            "Epoch 26/50\n",
            "4/4 - 0s - 10ms/step - accuracy: 0.3277 - loss: 1.3913\n",
            "Epoch 27/50\n",
            "4/4 - 0s - 14ms/step - accuracy: 0.3277 - loss: 1.3637\n",
            "Epoch 28/50\n",
            "4/4 - 0s - 9ms/step - accuracy: 0.3277 - loss: 1.3336\n",
            "Epoch 29/50\n",
            "4/4 - 0s - 15ms/step - accuracy: 0.3277 - loss: 1.3055\n",
            "Epoch 30/50\n",
            "4/4 - 0s - 14ms/step - accuracy: 0.3277 - loss: 1.2807\n",
            "Epoch 31/50\n",
            "4/4 - 0s - 14ms/step - accuracy: 0.3277 - loss: 1.2536\n",
            "Epoch 32/50\n",
            "4/4 - 0s - 8ms/step - accuracy: 0.3529 - loss: 1.2309\n",
            "Epoch 33/50\n",
            "4/4 - 0s - 15ms/step - accuracy: 0.3529 - loss: 1.2104\n",
            "Epoch 34/50\n",
            "4/4 - 0s - 7ms/step - accuracy: 0.3613 - loss: 1.1879\n",
            "Epoch 35/50\n",
            "4/4 - 0s - 14ms/step - accuracy: 0.3782 - loss: 1.1692\n",
            "Epoch 36/50\n",
            "4/4 - 0s - 7ms/step - accuracy: 0.3866 - loss: 1.1495\n",
            "Epoch 37/50\n",
            "4/4 - 0s - 8ms/step - accuracy: 0.4118 - loss: 1.1329\n",
            "Epoch 38/50\n",
            "4/4 - 0s - 8ms/step - accuracy: 0.4454 - loss: 1.1160\n",
            "Epoch 39/50\n",
            "4/4 - 0s - 8ms/step - accuracy: 0.4622 - loss: 1.1001\n",
            "Epoch 40/50\n",
            "4/4 - 0s - 8ms/step - accuracy: 0.4874 - loss: 1.0848\n",
            "Epoch 41/50\n",
            "4/4 - 0s - 8ms/step - accuracy: 0.4874 - loss: 1.0701\n",
            "Epoch 42/50\n",
            "4/4 - 0s - 8ms/step - accuracy: 0.5714 - loss: 1.0565\n",
            "Epoch 43/50\n",
            "4/4 - 0s - 8ms/step - accuracy: 0.6050 - loss: 1.0427\n",
            "Epoch 44/50\n",
            "4/4 - 0s - 8ms/step - accuracy: 0.6303 - loss: 1.0294\n",
            "Epoch 45/50\n",
            "4/4 - 0s - 8ms/step - accuracy: 0.6303 - loss: 1.0167\n",
            "Epoch 46/50\n",
            "4/4 - 0s - 15ms/step - accuracy: 0.6303 - loss: 1.0034\n",
            "Epoch 47/50\n",
            "4/4 - 0s - 11ms/step - accuracy: 0.6387 - loss: 0.9910\n",
            "Epoch 48/50\n",
            "4/4 - 0s - 14ms/step - accuracy: 0.6471 - loss: 0.9792\n",
            "Epoch 49/50\n",
            "4/4 - 0s - 14ms/step - accuracy: 0.6555 - loss: 0.9675\n",
            "Epoch 50/50\n",
            "4/4 - 0s - 8ms/step - accuracy: 0.6555 - loss: 0.9566\n"
          ]
        },
        {
          "output_type": "execute_result",
          "data": {
            "text/plain": [
              "<keras.src.callbacks.history.History at 0x79330c6739d0>"
            ]
          },
          "metadata": {},
          "execution_count": 28
        }
      ]
    },
    {
      "cell_type": "code",
      "source": [
        "#Evaluate the Model\n",
        "loss, acc = model.evaluate(X_test, y_test, verbose=2)\n",
        "print(f'Test Accuracy: {acc}')\n",
        "#Save and Load Model\n",
        "# save model to file\n",
        "# model.save('model.h5') # Hierarchical Data Format 5\n",
        "# Model.save(filepath, overwrite=True, zipped=None, **kwargs)\n",
        "model.save(\"model.keras\")\n",
        "#Use model\n",
        "# loaded model\n",
        "loaded_model = keras.saving.load_model(\"model.keras\")\n",
        "# make a prediction\n",
        "import numpy as np\n",
        "row = np.random.random((1, 4))\n",
        "yhat = model.predict([row])\n",
        "print('Predicted: %s (class=%d)' % (yhat, argmax(yhat)))"
      ],
      "metadata": {
        "colab": {
          "base_uri": "https://localhost:8080/"
        },
        "id": "Bvd7yI0iOJIM",
        "outputId": "6b256d96-ea58-46cc-824e-aa87c9e3aa86"
      },
      "execution_count": 29,
      "outputs": [
        {
          "output_type": "stream",
          "name": "stdout",
          "text": [
            "1/1 - 0s - 125ms/step - accuracy: 0.6000 - loss: 0.9829\n",
            "Test Accuracy: 0.6000000238418579\n",
            "\u001b[1m1/1\u001b[0m \u001b[32m━━━━━━━━━━━━━━━━━━━━\u001b[0m\u001b[37m\u001b[0m \u001b[1m0s\u001b[0m 65ms/step\n",
            "Predicted: [[0.30237854 0.31964397 0.3779775 ]] (class=2)\n"
          ]
        }
      ]
    }
  ]
}